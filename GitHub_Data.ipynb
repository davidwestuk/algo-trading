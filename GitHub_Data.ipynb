{
  "nbformat": 4,
  "nbformat_minor": 0,
  "metadata": {
    "colab": {
      "name": "GitHub Data.ipynb",
      "version": "0.3.2",
      "provenance": [],
      "collapsed_sections": []
    },
    "kernelspec": {
      "name": "python3",
      "display_name": "Python 3"
    }
  },
  "cells": [
    {
      "metadata": {
        "id": "LeZDUWHlqqGD",
        "colab_type": "code",
        "colab": {}
      },
      "cell_type": "code",
      "source": [
        "import numpy as np\n",
        "import pandas as pd"
      ],
      "execution_count": 0,
      "outputs": []
    },
    {
      "metadata": {
        "id": "JYKC2-mEq2O8",
        "colab_type": "code",
        "colab": {}
      },
      "cell_type": "code",
      "source": [
        "url = 'https://raw.githubusercontent.com/davidwestuk/financial-data/master/dax_futures.csv'\n",
        "df = pd.read_csv(url, parse_dates=True, index_col='Date')\n",
        "df.index.name = None"
      ],
      "execution_count": 0,
      "outputs": []
    },
    {
      "metadata": {
        "id": "BJRZzcRSrVZu",
        "colab_type": "code",
        "colab": {
          "base_uri": "https://localhost:8080/",
          "height": 194
        },
        "outputId": "87bc77f4-1ad9-4a24-acc9-3c5ba869d5e8"
      },
      "cell_type": "code",
      "source": [
        "df.head()"
      ],
      "execution_count": 9,
      "outputs": [
        {
          "output_type": "execute_result",
          "data": {
            "text/html": [
              "<div>\n",
              "<style scoped>\n",
              "    .dataframe tbody tr th:only-of-type {\n",
              "        vertical-align: middle;\n",
              "    }\n",
              "\n",
              "    .dataframe tbody tr th {\n",
              "        vertical-align: top;\n",
              "    }\n",
              "\n",
              "    .dataframe thead th {\n",
              "        text-align: right;\n",
              "    }\n",
              "</style>\n",
              "<table border=\"1\" class=\"dataframe\">\n",
              "  <thead>\n",
              "    <tr style=\"text-align: right;\">\n",
              "      <th></th>\n",
              "      <th>Open</th>\n",
              "      <th>High</th>\n",
              "      <th>Low</th>\n",
              "      <th>Close</th>\n",
              "    </tr>\n",
              "  </thead>\n",
              "  <tbody>\n",
              "    <tr>\n",
              "      <th>1999-12-30</th>\n",
              "      <td>8863.5</td>\n",
              "      <td>8935.5</td>\n",
              "      <td>8853.5</td>\n",
              "      <td>8930.5</td>\n",
              "    </tr>\n",
              "    <tr>\n",
              "      <th>2000-01-03</th>\n",
              "      <td>9091.5</td>\n",
              "      <td>9113.5</td>\n",
              "      <td>8670.5</td>\n",
              "      <td>8708.0</td>\n",
              "    </tr>\n",
              "    <tr>\n",
              "      <th>2000-01-04</th>\n",
              "      <td>8703.5</td>\n",
              "      <td>8703.5</td>\n",
              "      <td>8459.5</td>\n",
              "      <td>8533.5</td>\n",
              "    </tr>\n",
              "    <tr>\n",
              "      <th>2000-01-05</th>\n",
              "      <td>8370.5</td>\n",
              "      <td>8525.5</td>\n",
              "      <td>8366.5</td>\n",
              "      <td>8435.5</td>\n",
              "    </tr>\n",
              "    <tr>\n",
              "      <th>2000-01-06</th>\n",
              "      <td>8427.5</td>\n",
              "      <td>8480.5</td>\n",
              "      <td>8341.0</td>\n",
              "      <td>8409.0</td>\n",
              "    </tr>\n",
              "  </tbody>\n",
              "</table>\n",
              "</div>"
            ],
            "text/plain": [
              "              Open    High     Low   Close\n",
              "1999-12-30  8863.5  8935.5  8853.5  8930.5\n",
              "2000-01-03  9091.5  9113.5  8670.5  8708.0\n",
              "2000-01-04  8703.5  8703.5  8459.5  8533.5\n",
              "2000-01-05  8370.5  8525.5  8366.5  8435.5\n",
              "2000-01-06  8427.5  8480.5  8341.0  8409.0"
            ]
          },
          "metadata": {
            "tags": []
          },
          "execution_count": 9
        }
      ]
    },
    {
      "metadata": {
        "id": "iAs1ng0Prb35",
        "colab_type": "code",
        "colab": {}
      },
      "cell_type": "code",
      "source": [
        "def PFE(prices):\n",
        "    \"\"\"Polarised Fractal Efficiency (PFE)\"\"\"\n",
        "    # prices[-1] is the latest price in our rolling window\n",
        "    # prices[0] is the oldest price in our rolling window\n",
        "    \n",
        "    count = len(prices)\n",
        "    top = ((prices[-1] - prices[0])**2 + (count - 1)**2)**0.5\n",
        "    \n",
        "    bottom = 0.0\n",
        "    for i in range(count - 1):\n",
        "        bottom += ((prices[i+1] - prices[i])**2 + 1)**0.5 \n",
        "        \n",
        "    if prices[-1] < prices[0]:\n",
        "        top = -top\n",
        "        \n",
        "    return top / bottom"
      ],
      "execution_count": 0,
      "outputs": []
    },
    {
      "metadata": {
        "id": "VG85xBhOt458",
        "colab_type": "code",
        "colab": {
          "base_uri": "https://localhost:8080/",
          "height": 124
        },
        "outputId": "64496b1b-99be-4026-98df-001dccf58400"
      },
      "cell_type": "code",
      "source": [
        "lookback = 20\n",
        "pfe_indicator = df.Close.rolling(window=lookback).apply(PFE)\n",
        "pfe_indicator.dropna(inplace=True)\n",
        "pfe_indicator.head()"
      ],
      "execution_count": 11,
      "outputs": [
        {
          "output_type": "execute_result",
          "data": {
            "text/plain": [
              "2000-01-27    0.064822\n",
              "2000-01-28    0.150733\n",
              "2000-01-31    0.114747\n",
              "2000-02-01    0.245016\n",
              "2000-02-02    0.307765\n",
              "Name: Close, dtype: float64"
            ]
          },
          "metadata": {
            "tags": []
          },
          "execution_count": 11
        }
      ]
    },
    {
      "metadata": {
        "id": "ISWFn6fGuTrj",
        "colab_type": "code",
        "colab": {
          "base_uri": "https://localhost:8080/",
          "height": 368
        },
        "outputId": "96d139c1-fb6a-4449-fad4-61c03b96293b"
      },
      "cell_type": "code",
      "source": [
        "pfe_indicator.hist(bins=30)"
      ],
      "execution_count": 12,
      "outputs": [
        {
          "output_type": "execute_result",
          "data": {
            "text/plain": [
              "<matplotlib.axes._subplots.AxesSubplot at 0x7fa94de4ada0>"
            ]
          },
          "metadata": {
            "tags": []
          },
          "execution_count": 12
        },
        {
          "output_type": "display_data",
          "data": {
            "image/png": "[encoded data removed]",
            "text/plain": [
              "<Figure size 576x396 with 1 Axes>"
            ]
          },
          "metadata": {
            "tags": []
          }
        }
      ]
    },
    {
      "metadata": {
        "id": "MduN4pgRwoTz",
        "colab_type": "code",
        "colab": {
          "base_uri": "https://localhost:8080/",
          "height": 194
        },
        "outputId": "472dc0dc-e964-4db8-f011-c91cf0576167"
      },
      "cell_type": "code",
      "source": [
        "factor = 100\n",
        "df_new = df / factor\n",
        "df_new.head()"
      ],
      "execution_count": 15,
      "outputs": [
        {
          "output_type": "execute_result",
          "data": {
            "text/html": [
              "<div>\n",
              "<style scoped>\n",
              "    .dataframe tbody tr th:only-of-type {\n",
              "        vertical-align: middle;\n",
              "    }\n",
              "\n",
              "    .dataframe tbody tr th {\n",
              "        vertical-align: top;\n",
              "    }\n",
              "\n",
              "    .dataframe thead th {\n",
              "        text-align: right;\n",
              "    }\n",
              "</style>\n",
              "<table border=\"1\" class=\"dataframe\">\n",
              "  <thead>\n",
              "    <tr style=\"text-align: right;\">\n",
              "      <th></th>\n",
              "      <th>Open</th>\n",
              "      <th>High</th>\n",
              "      <th>Low</th>\n",
              "      <th>Close</th>\n",
              "    </tr>\n",
              "  </thead>\n",
              "  <tbody>\n",
              "    <tr>\n",
              "      <th>1999-12-30</th>\n",
              "      <td>88.635</td>\n",
              "      <td>89.355</td>\n",
              "      <td>88.535</td>\n",
              "      <td>89.305</td>\n",
              "    </tr>\n",
              "    <tr>\n",
              "      <th>2000-01-03</th>\n",
              "      <td>90.915</td>\n",
              "      <td>91.135</td>\n",
              "      <td>86.705</td>\n",
              "      <td>87.080</td>\n",
              "    </tr>\n",
              "    <tr>\n",
              "      <th>2000-01-04</th>\n",
              "      <td>87.035</td>\n",
              "      <td>87.035</td>\n",
              "      <td>84.595</td>\n",
              "      <td>85.335</td>\n",
              "    </tr>\n",
              "    <tr>\n",
              "      <th>2000-01-05</th>\n",
              "      <td>83.705</td>\n",
              "      <td>85.255</td>\n",
              "      <td>83.665</td>\n",
              "      <td>84.355</td>\n",
              "    </tr>\n",
              "    <tr>\n",
              "      <th>2000-01-06</th>\n",
              "      <td>84.275</td>\n",
              "      <td>84.805</td>\n",
              "      <td>83.410</td>\n",
              "      <td>84.090</td>\n",
              "    </tr>\n",
              "  </tbody>\n",
              "</table>\n",
              "</div>"
            ],
            "text/plain": [
              "              Open    High     Low   Close\n",
              "1999-12-30  88.635  89.355  88.535  89.305\n",
              "2000-01-03  90.915  91.135  86.705  87.080\n",
              "2000-01-04  87.035  87.035  84.595  85.335\n",
              "2000-01-05  83.705  85.255  83.665  84.355\n",
              "2000-01-06  84.275  84.805  83.410  84.090"
            ]
          },
          "metadata": {
            "tags": []
          },
          "execution_count": 15
        }
      ]
    },
    {
      "metadata": {
        "id": "nZPQvraWxzZr",
        "colab_type": "code",
        "colab": {}
      },
      "cell_type": "code",
      "source": [
        ""
      ],
      "execution_count": 0,
      "outputs": []
    }
  ]
}